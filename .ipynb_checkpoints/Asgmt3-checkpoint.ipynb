{
 "cells": [
  {
   "cell_type": "code",
   "execution_count": 2,
   "id": "c7119f7e-49f5-4e43-959d-8288b820e2fa",
   "metadata": {},
   "outputs": [
    {
     "name": "stdout",
     "output_type": "stream",
     "text": [
      "Collecting pandas\n",
      "  Using cached pandas-2.2.3-cp311-cp311-macosx_10_9_x86_64.whl.metadata (89 kB)\n",
      "Requirement already satisfied: numpy>=1.23.2 in /usr/local/lib/python3.11/site-packages (from pandas) (2.1.2)\n",
      "Requirement already satisfied: python-dateutil>=2.8.2 in /usr/local/lib/python3.11/site-packages (from pandas) (2.9.0.post0)\n",
      "Collecting pytz>=2020.1 (from pandas)\n",
      "  Using cached pytz-2024.2-py2.py3-none-any.whl.metadata (22 kB)\n",
      "Collecting tzdata>=2022.7 (from pandas)\n",
      "  Using cached tzdata-2024.2-py2.py3-none-any.whl.metadata (1.4 kB)\n",
      "Requirement already satisfied: six>=1.5 in /usr/local/lib/python3.11/site-packages (from python-dateutil>=2.8.2->pandas) (1.16.0)\n",
      "Using cached pandas-2.2.3-cp311-cp311-macosx_10_9_x86_64.whl (12.6 MB)\n",
      "Using cached pytz-2024.2-py2.py3-none-any.whl (508 kB)\n",
      "Using cached tzdata-2024.2-py2.py3-none-any.whl (346 kB)\n",
      "Installing collected packages: pytz, tzdata, pandas\n",
      "Successfully installed pandas-2.2.3 pytz-2024.2 tzdata-2024.2\n"
     ]
    }
   ],
   "source": [
    "!pip install pandas"
   ]
  },
  {
   "cell_type": "code",
   "execution_count": 4,
   "id": "4c467c5e-a6f8-423e-a580-50c72ff03606",
   "metadata": {},
   "outputs": [
    {
     "name": "stdout",
     "output_type": "stream",
     "text": [
      "       country        date  agricultural_land%  forest_land%  land_area  \\\n",
      "0  Afghanistan  1960-01-01                 NaN           NaN        NaN   \n",
      "1  Afghanistan  1961-01-01           57.878356           NaN   652230.0   \n",
      "2  Afghanistan  1962-01-01           57.955016           NaN   652230.0   \n",
      "3  Afghanistan  1963-01-01           58.031676           NaN   652230.0   \n",
      "4  Afghanistan  1964-01-01           58.116002           NaN   652230.0   \n",
      "\n",
      "   avg_precipitation  trade_in_services%  control_of_corruption_estimate  \\\n",
      "0                NaN                 NaN                             NaN   \n",
      "1              327.0                 NaN                             NaN   \n",
      "2              327.0                 NaN                             NaN   \n",
      "3              327.0                 NaN                             NaN   \n",
      "4              327.0                 NaN                             NaN   \n",
      "\n",
      "   control_of_corruption_std  access_to_electricity%  ...  \\\n",
      "0                        NaN                     NaN  ...   \n",
      "1                        NaN                     NaN  ...   \n",
      "2                        NaN                     NaN  ...   \n",
      "3                        NaN                     NaN  ...   \n",
      "4                        NaN                     NaN  ...   \n",
      "\n",
      "   multidimensional_poverty_headcount_ratio%  gini_index  birth_rate  \\\n",
      "0                                        NaN         NaN      50.340   \n",
      "1                                        NaN         NaN      50.443   \n",
      "2                                        NaN         NaN      50.570   \n",
      "3                                        NaN         NaN      50.703   \n",
      "4                                        NaN         NaN      50.831   \n",
      "\n",
      "   death_rate  life_expectancy_at_birth  population  rural_population  \\\n",
      "0      31.921                    32.535   8622466.0         7898093.0   \n",
      "1      31.349                    33.068   8790140.0         8026804.0   \n",
      "2      30.845                    33.547   8969047.0         8163985.0   \n",
      "3      30.359                    34.016   9157465.0         8308019.0   \n",
      "4      29.867                    34.494   9355514.0         8458694.0   \n",
      "\n",
      "   voice_and_accountability_estimate  voice_and_accountability_std  \\\n",
      "0                                NaN                           NaN   \n",
      "1                                NaN                           NaN   \n",
      "2                                NaN                           NaN   \n",
      "3                                NaN                           NaN   \n",
      "4                                NaN                           NaN   \n",
      "\n",
      "   intentional_homicides  \n",
      "0                    NaN  \n",
      "1                    NaN  \n",
      "2                    NaN  \n",
      "3                    NaN  \n",
      "4                    NaN  \n",
      "\n",
      "[5 rows x 50 columns]\n"
     ]
    }
   ],
   "source": [
    "import pandas as pd\n",
    "\n",
    "# Load the World Bank Development Indicators dataset\n",
    "world_bank_data = pd.read_csv('world_bank_development_indicators.csv')\n",
    "\n",
    "# Inspect the dataset\n",
    "print(world_bank_data.head())\n"
   ]
  },
  {
   "cell_type": "code",
   "execution_count": null,
   "id": "f1181770-4b1b-4200-9b61-d129e4c3cebc",
   "metadata": {},
   "outputs": [],
   "source": []
  }
 ],
 "metadata": {
  "kernelspec": {
   "display_name": "Python 3 (ipykernel)",
   "language": "python",
   "name": "python3"
  },
  "language_info": {
   "codemirror_mode": {
    "name": "ipython",
    "version": 3
   },
   "file_extension": ".py",
   "mimetype": "text/x-python",
   "name": "python",
   "nbconvert_exporter": "python",
   "pygments_lexer": "ipython3",
   "version": "3.11.5"
  }
 },
 "nbformat": 4,
 "nbformat_minor": 5
}
